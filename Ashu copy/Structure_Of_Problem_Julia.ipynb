{
 "cells": [
  {
   "cell_type": "code",
   "execution_count": 11,
   "metadata": {},
   "outputs": [],
   "source": [
    "using JuMP, Ipopt, Plots, Printf, LinearAlgebra, SCS, Distributions"
   ]
  },
  {
   "cell_type": "code",
   "execution_count": 12,
   "metadata": {},
   "outputs": [
    {
     "name": "stdout",
     "output_type": "stream",
     "text": [
      "64\n",
      "16\n",
      "52\n",
      "69\n"
     ]
    }
   ],
   "source": [
    "N = 3\n",
    "λ = 1.0\n",
    "ni = 4 * (N + 1)^2\n",
    "np = 5 * N + 1\n",
    "ns  = ni - 12\n",
    "nt = np + ns + 1\n",
    "println(ni)\n",
    "println(np)\n",
    "println(ns)\n",
    "println(nt)\n"
   ]
  },
  {
   "cell_type": "markdown",
   "metadata": {},
   "source": [
    "We Define the states now"
   ]
  },
  {
   "cell_type": "code",
   "execution_count": 13,
   "metadata": {},
   "outputs": [],
   "source": [
    "S = Dict()\n",
    "T = []\n",
    "TG = []\n",
    "TB = []\n",
    "for ua in 0:N\n",
    "    for ub in 0:N\n",
    "        for sa in 0:1\n",
    "            for sb in 0:1\n",
    "                index = (2 * sa + sb) * (N + 1)^2 + (N + 1) * ua + ub\n",
    "                S[index] = (ua, ub, sa, sb)\n",
    "            end\n",
    "        end\n",
    "    end\n",
    "end\n",
    "Skeyer = Dict(value => key for (key, value) in S);\n"
   ]
  },
  {
   "cell_type": "markdown",
   "metadata": {},
   "source": [
    "Define Terminal states"
   ]
  },
  {
   "cell_type": "code",
   "execution_count": 14,
   "metadata": {},
   "outputs": [
    {
     "name": "stdout",
     "output_type": "stream",
     "text": [
      "Terminal States\n",
      "T: Any[3, 12, 15, 19, 28, 31, 35, 44, 47, 51, 60, 63]\n",
      "TG: Any[3, 12, 19, 28, 35, 44, 51, 60]\n",
      "TB: Any[15, 31, 47, 63]\n",
      "Tc: [0, 1, 2, 4, 5, 6, 7, 8, 9, 10, 11, 13, 14, 16, 17, 18, 20, 21, 22, 23, 24, 25, 26, 27, 29, 30, 32, 33, 34, 36, 37, 38, 39, 40, 41, 42, 43, 45, 46, 48, 49, 50, 52, 53, 54, 55, 56, 57, 58, 59, 61, 62]\n"
     ]
    }
   ],
   "source": [
    "# Initialize lists\n",
    "T = []\n",
    "TG = []\n",
    "TB = []\n",
    "\n",
    "# Loop through the ranges\n",
    "for ua in 0:N\n",
    "    for ub in 0:N\n",
    "        for sa in 0:1\n",
    "            for sb in 0:1\n",
    "                i = (2 * sa + sb) * (N + 1)^2 + (N + 1) * ua + ub\n",
    "                if ua == N && ub == 0\n",
    "                    push!(TG, i)\n",
    "                    push!(T, i)\n",
    "                end\n",
    "                if ua == 0 && ub == N\n",
    "                    push!(TG, i)\n",
    "                    push!(T, i)\n",
    "                end\n",
    "                if ua == N && ub == N\n",
    "                    push!(TB, i)\n",
    "                    push!(T, i)\n",
    "                end\n",
    "                S[i] = (ua, ub, sa, sb)\n",
    "            end\n",
    "        end\n",
    "    end\n",
    "end\n",
    "Tc = [i for i in 0:ni-1 if i ∉ T]\n",
    "\n",
    "sort!(T);\n",
    "sort!(TG);\n",
    "sort!(TB);\n",
    "\n",
    "\n",
    "println(\"Terminal States\")\n",
    "println(\"T: \", T)\n",
    "println(\"TG: \", TG)\n",
    "println(\"TB: \", TB)\n",
    "println(\"Tc: \", Tc)\n",
    "# println(size(Tc))"
   ]
  },
  {
   "cell_type": "markdown",
   "metadata": {},
   "source": [
    "Parameters"
   ]
  },
  {
   "cell_type": "code",
   "execution_count": 15,
   "metadata": {},
   "outputs": [
    {
     "data": {
      "text/plain": [
       "16-element Vector{Float64}:\n",
       " 0.4438281417379347\n",
       " 0.02407293122872345\n",
       " 0.7097410300646111\n",
       " 0.6214555457447279\n",
       " 0.6472495112963288\n",
       " 0.23696203042068087\n",
       " 0.8598528163572163\n",
       " 0.14296206804825817\n",
       " 0.6035209908975165\n",
       " 0.5569373222888053\n",
       " 0.59584943113792\n",
       " 0.6890496110846002\n",
       " 0.9805757629706341\n",
       " 0.1423438821098162\n",
       " 0.056897703874896455\n",
       " 0.8691256353996689"
      ]
     },
     "execution_count": 15,
     "metadata": {},
     "output_type": "execute_result"
    }
   ],
   "source": [
    "# f⁺ = collect([[N * (j-1) + i for j in 1:2] for i in 1:N]);\n",
    "# f⁺=reduce(hcat,f⁺)\n",
    "# f⁻ = collect([[N * (j-1) + i + (2 * N) for j in 1:2] for i in 1:N]);\n",
    "# f⁻=reduce(hcat,f⁻)\n",
    "# g = [4 * N  + i for i in 1:N];\n",
    "# koff = 5 * N + 1\n",
    "\n",
    "f⁺=rand(N, 2)\n",
    "f⁻=rand(N, 2)\n",
    "f⁺_flattened = collect(Iterators.flatten(f⁺'))\n",
    "f⁻_flattened = collect(Iterators.flatten(f⁻'))\n",
    "g=rand(N)\n",
    "koff=rand(Uniform(0,1))\n",
    "P = collect(vcat(f⁺_flattened, f⁻_flattened, g, [koff]))\n",
    "# println(P)\n"
   ]
  },
  {
   "cell_type": "markdown",
   "metadata": {},
   "source": [
    "Defining matrices"
   ]
  },
  {
   "cell_type": "code",
   "execution_count": 16,
   "metadata": {},
   "outputs": [],
   "source": [
    "M=zeros(Int, ni, ni, np);\n",
    "for (u, u_) in Iterators.product(values(S), values(S))\n",
    "    # Skip if u and u_ are the same\n",
    "    if u == u_\n",
    "        continue\n",
    "    end\n",
    "\n",
    "    i = Skeyer[u]\n",
    "    j = Skeyer[u_]\n",
    "    flag = 0\n",
    "    ua, ub, sa, sb = u\n",
    "    ua_, ub_, sa_, sb_ = u_\n",
    "\n",
    "    tempk = 0\n",
    "\n",
    "    if ua_==ua+1 && ub == ub_ && sa == sa_ && sb == sb_\n",
    "        flag = 1\n",
    "        tempk = N * sa + ua + 1\n",
    "    elseif ua_==ua-1 && ub == ub_ && sa == sa_ && sb == sb_\n",
    "        flag = 1\n",
    "        tempk = sa * N + ua + 2 * N \n",
    "    elseif ub_==ub+1 && ua == ua_ && sa == sa_ && sb == sb_\n",
    "        flag = 1\n",
    "        tempk = N * sb + ub + 1\n",
    "    elseif ub_==ub-1 && ua == ua_ && sa == sa_ && sb == sb_\n",
    "        flag = 1\n",
    "        tempk = sb * N + ub + 2 * N \n",
    "    elseif ua == ua_ && ub == ub_ && ub != 0 && sb == sb_ && sa==0 && sa_==1\n",
    "        flag = 1\n",
    "        tempk = 4 * N + ub \n",
    "    elseif ua == ua_ && ub == ub_ && sb == sb_ && sa==1 && sa_==0\n",
    "        flag = 1\n",
    "        tempk = 5 * N + 1\n",
    "    elseif ua == ua_ && ub == ub_ && ua != 0 && sa == sa_ && sb==0 && sb_==1\n",
    "        flag = 1\n",
    "        tempk = 4 * N + ua \n",
    "    elseif ua == ua_ && ub == ub_ && sa == sa_ && sb==1 && sb_==0\n",
    "        flag = 1\n",
    "        tempk = 5 * N + 1\n",
    "    end\n",
    "\n",
    "    if flag == 1\n",
    "        M[i+1, j+1, tempk] = flag\n",
    "    end\n",
    "end\n",
    "for k in 1:np\n",
    "    # Calculate the sum of each row for the kth slice of M (equivalent to M[:,:,k] in Python)\n",
    "    M_i = [sum(M[:, :, k][i, :]) for i in 1:ni]\n",
    "\n",
    "    for u in values(S)\n",
    "        i = Skeyer[u]\n",
    "        M[i+1, i+1, k] = -M_i[i+1]\n",
    "    end\n",
    "end"
   ]
  },
  {
   "cell_type": "code",
   "execution_count": 17,
   "metadata": {},
   "outputs": [
    {
     "name": "stdout",
     "output_type": "stream",
     "text": [
      "[0.4438281417379347, 0.02407293122872345, 0.7097410300646111, 0.6214555457447279, 0.6472495112963288, 0.23696203042068087, 0.8598528163572163, 0.14296206804825817, 0.6035209908975165, 0.5569373222888053, 0.59584943113792, 0.6890496110846002, 0.9805757629706341, 0.1423438821098162, 0.056897703874896455, 0.8691256353996689]\n"
     ]
    },
    {
     "data": {
      "text/plain": [
       "64×64 Matrix{Float64}:\n",
       " -0.887656   0.443828   0.0        …   0.0        0.0        0.0\n",
       "  0.859853  -2.30833    0.0240729      0.0        0.0        0.0\n",
       "  0.0        0.142962  -1.43888        0.0        0.0        0.0\n",
       "  0.0        0.0        0.603521       0.0        0.0        0.0\n",
       "  0.859853   0.0        0.0            0.0        0.0        0.0\n",
       "  0.0        0.859853   0.0        …   0.0        0.0        0.0\n",
       "  0.0        0.0        0.859853       0.0        0.0        0.0\n",
       "  0.0        0.0        0.0            0.0        0.0        0.0\n",
       "  0.0        0.0        0.0            0.0        0.0        0.0\n",
       "  0.0        0.0        0.0            0.0        0.0        0.0\n",
       "  0.0        0.0        0.0        …   0.0        0.0        0.0\n",
       "  0.0        0.0        0.0            0.0        0.0        0.0\n",
       "  0.0        0.0        0.0            0.0        0.0        0.0\n",
       "  ⋮                                ⋱                        \n",
       "  0.0        0.0        0.0            0.0        0.0        0.0\n",
       "  0.0        0.0        0.0            0.0        0.0        0.0\n",
       "  0.0        0.0        0.0            0.0        0.0        0.0\n",
       "  0.0        0.0        0.0        …   0.0        0.0        0.0\n",
       "  0.0        0.0        0.0            0.0        0.0        0.0\n",
       "  0.0        0.0        0.0            0.236962   0.0        0.0\n",
       "  0.0        0.0        0.0            0.0        0.236962   0.0\n",
       "  0.0        0.0        0.0            0.0        0.0        0.236962\n",
       "  0.0        0.0        0.0        …   0.621456   0.0        0.0\n",
       "  0.0        0.0        0.0           -3.63149    0.64725    0.0\n",
       "  0.0        0.0        0.0            0.595849  -3.26011    0.236962\n",
       "  0.0        0.0        0.0            0.0        0.68905   -3.11635"
      ]
     },
     "execution_count": 17,
     "metadata": {},
     "output_type": "execute_result"
    }
   ],
   "source": [
    "# P_=reshape(P, np, 1)\n",
    "println(P)\n",
    "Q = reduce((x, y) -> x + y, [P[k] * M[:, :, k] for k in 1:np])"
   ]
  },
  {
   "cell_type": "code",
   "execution_count": 18,
   "metadata": {},
   "outputs": [
    {
     "data": {
      "text/plain": [
       "4.440892098500626e-16"
      ]
     },
     "execution_count": 18,
     "metadata": {},
     "output_type": "execute_result"
    }
   ],
   "source": [
    "function Qfinder(P,N::Int64,λ::Float64,S,Skeyer)\n",
    "    ni = 4 * (N + 1)^2\n",
    "    np = 5 * N + 1\n",
    "    ns  = ni - 12\n",
    "    nt = np + ns + 1\n",
    "#     Q=@expression(model, zeros(AffExpr, ni, ni)) \n",
    "    Q=zeros(ni,ni)\n",
    "    for (u, u_) in Iterators.product(values(S), values(S))\n",
    "        if u == u_\n",
    "            continue\n",
    "        end\n",
    "        i = Skeyer[u]\n",
    "        j = Skeyer[u_]\n",
    "        flag = 0\n",
    "        ua, ub, sa, sb = u\n",
    "        ua_, ub_, sa_, sb_ = u_\n",
    "\n",
    "        tempk = 0\n",
    "\n",
    "        if ua_==ua+1 && ub == ub_ && sa == sa_ && sb == sb_\n",
    "            flag = 1\n",
    "            tempk = N * sa + ua + 1\n",
    "        elseif ua_==ua-1 && ub == ub_ && sa == sa_ && sb == sb_\n",
    "            flag = 1\n",
    "            tempk = sa * N + ua + 2 * N \n",
    "        elseif ub_==ub+1 && ua == ua_ && sa == sa_ && sb == sb_\n",
    "            flag = 1\n",
    "            tempk = N * sb + ub + 1\n",
    "        elseif ub_==ub-1 && ua == ua_ && sa == sa_ && sb == sb_\n",
    "            flag = 1\n",
    "            tempk = sb * N + ub + 2 * N \n",
    "        elseif ua == ua_ && ub == ub_ && ub != 0 && sb == sb_ && sa==0 && sa_==1\n",
    "            flag = 1\n",
    "            tempk = 4 * N + ub \n",
    "        elseif ua == ua_ && ub == ub_ && sb == sb_ && sa==1 && sa_==0\n",
    "            flag = 1\n",
    "            tempk = 5 * N + 1\n",
    "        elseif ua == ua_ && ub == ub_ && ua != 0 && sa == sa_ && sb==0 && sb_==1\n",
    "            flag = 1\n",
    "            tempk = 4 * N + ua \n",
    "        elseif ua == ua_ && ub == ub_ && sa == sa_ && sb==1 && sb_==0\n",
    "            flag = 1\n",
    "            tempk = 5 * N + 1\n",
    "        end\n",
    "        if flag == 1\n",
    "            Q[i+1, j+1] = P[tempk]\n",
    "        end\n",
    "    end\n",
    "    for i in 1:ni\n",
    "        # Calculate the sum of each row for Qi\n",
    "        qi = sum(Q[i, :])\n",
    "        Q[i,i] = -qi\n",
    "    end\n",
    "    return Q\n",
    "end\n",
    "\n",
    "Q_=Qfinder(P,N,λ,S,Skeyer)\n",
    "maximum(abs.(Q_-Q))"
   ]
  },
  {
   "cell_type": "code",
   "execution_count": 21,
   "metadata": {},
   "outputs": [
    {
     "name": "stdout",
     "output_type": "stream",
     "text": [
      "(64, 64)\n",
      "(52, 64)\n"
     ]
    },
    {
     "data": {
      "text/plain": [
       "2.220035748572265e19"
      ]
     },
     "execution_count": 21,
     "metadata": {},
     "output_type": "execute_result"
    }
   ],
   "source": [
    "R = zeros(ns, ni)\n",
    "for i in 1:ns\n",
    "    R[i,Tc[i]+1] = 1\n",
    "end\n",
    "println(size(Q))\n",
    "println(size(R))\n",
    "\n",
    "Qtilde = R * Q * R'\n",
    "det(Qtilde)\n",
    "# for rownum in 1:size(R,1)\n",
    "#     println(R[rownum,:])\n",
    "# end"
   ]
  },
  {
   "cell_type": "code",
   "execution_count": 22,
   "metadata": {},
   "outputs": [],
   "source": [
    "Mtilde = zeros(ns, ns, np)\n",
    "for k in 1:np\n",
    "    Mtilde[:, :, k] = R * M[:, :, k] * R'\n",
    "end\n",
    "# Mtilde"
   ]
  },
  {
   "cell_type": "code",
   "execution_count": 257,
   "metadata": {},
   "outputs": [],
   "source": [
    "# Mtilde = zeros(ns, ns, np)\n",
    "# for i in 1:ns\n",
    "#     for j in 1:ns\n",
    "#         for k in 1:np\n",
    "#             Mtilde[i, j, k] = sum(R[i, a] * R[j, b] * M[a, b, k] for a in 1:ni, b in 1:ni)\n",
    "#         end\n",
    "#     end\n",
    "# end"
   ]
  },
  {
   "cell_type": "code",
   "execution_count": 258,
   "metadata": {},
   "outputs": [],
   "source": [
    "Ai = zeros(ns, np, ns)\n",
    "for i in 1:ns\n",
    "    Ai[:,:,i]= Mtilde[i,:,:]   \n",
    "end"
   ]
  },
  {
   "cell_type": "code",
   "execution_count": 259,
   "metadata": {},
   "outputs": [],
   "source": [
    "# eis = Matrix{Float64}(I, ns, ns)\n",
    "# # println(eis)\n",
    "# Ai = zeros(ns, np, ns)\n",
    "# for k in 1:ns\n",
    "#     ei=eis[k,:]\n",
    "#     for i in 1:ns\n",
    "#         for j in 1:np\n",
    "#             Ai[i,j,k]= ei'*Mtilde[:,i,j]   \n",
    "#         end \n",
    "#     end\n",
    "# end\n",
    "# # minimum(Ai-Bi)"
   ]
  },
  {
   "cell_type": "code",
   "execution_count": 260,
   "metadata": {},
   "outputs": [],
   "source": [
    "alpha=zeros(np,ns)\n",
    "for i in 1:ns\n",
    "    Si=Tc[i]\n",
    "    for j in 1:ni\n",
    "        for k in 1:np\n",
    "            if (j-1 ∈ TB)\n",
    "                alpha[k,i]+=M[Si+1,j,k]\n",
    "            end\n",
    "            \n",
    "        end\n",
    "    end\n",
    "end"
   ]
  },
  {
   "cell_type": "code",
   "execution_count": 268,
   "metadata": {},
   "outputs": [
    {
     "ename": "LoadError",
     "evalue": "DimensionMismatch: matrix is not square: dimensions are (52, 16)",
     "output_type": "error",
     "traceback": [
      "DimensionMismatch: matrix is not square: dimensions are (52, 16)",
      "",
      "Stacktrace:",
      " [1] checksquare",
      "   @ ~/.julia/juliaup/julia-1.10.4+0.aarch64.apple.darwin14/share/julia/stdlib/v1.10/LinearAlgebra/src/LinearAlgebra.jl:241 [inlined]",
      " [2] UpperTriangular",
      "   @ ~/.julia/juliaup/julia-1.10.4+0.aarch64.apple.darwin14/share/julia/stdlib/v1.10/LinearAlgebra/src/triangular.jl:17 [inlined]",
      " [3] UpperTriangular",
      "   @ ~/.julia/juliaup/julia-1.10.4+0.aarch64.apple.darwin14/share/julia/stdlib/v1.10/LinearAlgebra/src/triangular.jl:24 [inlined]",
      " [4] det(A::Matrix{Float64})",
      "   @ LinearAlgebra ~/.julia/juliaup/julia-1.10.4+0.aarch64.apple.darwin14/share/julia/stdlib/v1.10/LinearAlgebra/src/generic.jl:1636",
      " [5] top-level scope",
      "   @ ./In[268]:8"
     ]
    }
   ],
   "source": [
    "Di=zeros(nt,nt,ns)\n",
    "for i in 1:ns\n",
    "    Di[np+1:np+ns,1:np,i]=Ai[:,:,i]\n",
    "    Di[1:np,nt,i]=λ*alpha[:,i]'\n",
    "    Di[nt,nt,i]=1\n",
    "end\n",
    "for i in 1:ns\n",
    "    println(det(Ai[:,:,i]))\n",
    "end"
   ]
  },
  {
   "cell_type": "code",
   "execution_count": 262,
   "metadata": {},
   "outputs": [
    {
     "data": {
      "text/plain": [
       "69×69 Matrix{Float64}:\n",
       " 0.0  0.0  0.0  0.0  0.0  0.0  0.0  0.0  …  0.0  0.0  0.0  0.0  0.0  0.0  0.0\n",
       " 0.0  0.0  0.0  0.0  0.0  0.0  0.0  0.0     0.0  0.0  0.0  0.0  0.0  0.0  0.0\n",
       " 0.0  0.0  0.0  0.0  0.0  0.0  0.0  0.0     0.0  0.0  0.0  0.0  0.0  0.0  0.0\n",
       " 0.0  0.0  0.0  0.0  0.0  0.0  0.0  0.0     0.0  0.0  0.0  0.0  0.0  0.0  0.0\n",
       " 0.0  0.0  0.0  0.0  0.0  0.0  0.0  0.0     0.0  0.0  0.0  0.0  0.0  0.0  0.0\n",
       " 0.0  0.0  0.0  0.0  0.0  0.0  0.0  0.0  …  0.0  0.0  0.0  0.0  0.0  0.0  0.0\n",
       " 0.0  0.0  0.0  0.0  0.0  0.0  0.0  0.0     0.0  0.0  0.0  0.0  0.0  0.0  0.0\n",
       " 0.0  0.0  0.0  0.0  0.0  0.0  0.0  0.0     0.0  0.0  0.0  0.0  0.0  0.0  0.0\n",
       " 0.0  0.0  0.0  0.0  0.0  0.0  0.0  0.0     0.0  0.0  0.0  0.0  0.0  0.0  0.0\n",
       " 0.0  0.0  0.0  0.0  0.0  0.0  0.0  0.0     0.0  0.0  0.0  0.0  0.0  0.0  0.0\n",
       " 0.0  0.0  0.0  0.0  0.0  0.0  0.0  0.0  …  0.0  0.0  0.0  0.0  0.0  0.0  0.0\n",
       " 0.0  0.0  0.0  0.0  0.0  0.0  0.0  0.0     0.0  0.0  0.0  0.0  0.0  0.0  0.0\n",
       " 0.0  0.0  0.0  0.0  0.0  0.0  0.0  0.0     0.0  0.0  0.0  0.0  0.0  0.0  0.0\n",
       " ⋮                        ⋮              ⋱                 ⋮              \n",
       " 0.0  0.0  0.0  0.0  0.0  0.0  0.0  0.0     0.0  0.0  0.0  0.0  0.0  0.0  0.0\n",
       " 0.0  0.0  0.0  0.0  0.0  0.0  0.0  0.0     0.0  0.0  0.0  0.0  0.0  0.0  0.0\n",
       " 0.0  0.0  0.0  0.0  0.0  0.0  0.0  0.0     0.0  0.0  0.0  0.0  0.0  0.0  0.0\n",
       " 0.0  0.0  0.0  0.0  0.0  0.0  0.0  0.0  …  0.0  0.0  0.0  0.0  0.0  0.0  0.0\n",
       " 0.0  0.0  0.0  0.0  0.0  0.0  0.0  0.0     0.0  0.0  0.0  0.0  0.0  0.0  0.0\n",
       " 0.0  0.0  0.0  0.0  0.0  0.0  0.0  0.0     0.0  0.0  0.0  0.0  0.0  0.0  0.0\n",
       " 0.0  0.0  0.0  0.0  0.0  0.0  0.0  0.0     0.0  0.0  0.0  0.0  0.0  0.0  0.0\n",
       " 0.0  0.0  0.0  0.0  0.0  0.0  0.0  0.0     0.0  0.0  0.0  0.0  0.0  0.0  0.0\n",
       " 0.0  0.0  0.0  0.0  0.0  0.0  0.0  0.0  …  0.0  0.0  0.0  0.0  0.0  0.0  0.0\n",
       " 0.0  0.0  0.0  0.0  0.0  0.0  0.0  0.0     0.0  0.0  0.0  0.0  0.0  0.0  0.0\n",
       " 0.0  0.0  0.0  0.0  0.0  0.0  0.0  0.0     0.0  0.0  0.0  0.0  0.0  0.0  0.0\n",
       " 0.0  0.0  0.0  0.0  0.0  0.0  0.0  0.0     0.0  0.0  0.0  0.0  0.0  0.0  0.0"
      ]
     },
     "execution_count": 262,
     "metadata": {},
     "output_type": "execute_result"
    }
   ],
   "source": [
    "Ei=zeros(nt,nt,nt)\n",
    "for i in 1:nt\n",
    "    Ei[i,nt,i]=1\n",
    "end\n",
    "S0=Ei[:,:,np+1]"
   ]
  },
  {
   "cell_type": "code",
   "execution_count": 245,
   "metadata": {},
   "outputs": [],
   "source": [
    "#Symmetrise the matrices\n",
    "D_i=copy(Di)\n",
    "for i in 1:ns\n",
    "    D_i[ :, :,i] = (Di[ :, :,i] + Di[ :, :,i]') / 2\n",
    "end\n",
    "        \n",
    "S_0 = (S0 + S0') / 2\n",
    "E_i = copy(Ei)\n",
    "for i in 1:nt\n",
    "    E_i[ :, :,i] = (Ei[ :, :,i] + Ei[ :, :,i]') / 2\n",
    "end"
   ]
  },
  {
   "cell_type": "code",
   "execution_count": 246,
   "metadata": {},
   "outputs": [],
   "source": [
    "C_is=zeros(nt,nt,np)\n",
    "for i in 1:np\n",
    "    C_is[i,i,i]=1\n",
    "end"
   ]
  },
  {
   "cell_type": "markdown",
   "metadata": {},
   "source": [
    "We have defined all our matrices! We can move towards formulating a SDP problem for our case"
   ]
  },
  {
   "cell_type": "code",
   "execution_count": null,
   "metadata": {},
   "outputs": [],
   "source": []
  }
 ],
 "metadata": {
  "kernelspec": {
   "display_name": "Julia 1.10.4",
   "language": "julia",
   "name": "julia-1.10"
  },
  "language_info": {
   "file_extension": ".jl",
   "mimetype": "application/julia",
   "name": "julia",
   "version": "1.10.4"
  }
 },
 "nbformat": 4,
 "nbformat_minor": 2
}
