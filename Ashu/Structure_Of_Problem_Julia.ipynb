{
 "cells": [
  {
   "cell_type": "code",
   "execution_count": 1,
   "metadata": {},
   "outputs": [],
   "source": [
    "using JuMP, Ipopt, Plots, Printf, LinearAlgebra, SCS"
   ]
  },
  {
   "cell_type": "code",
   "execution_count": 2,
   "metadata": {},
   "outputs": [
    {
     "name": "stdout",
     "output_type": "stream",
     "text": [
      "64\n",
      "16\n",
      "52\n",
      "69\n"
     ]
    }
   ],
   "source": [
    "N = 3\n",
    "λ = 1\n",
    "ni = 4 * (N + 1)^2\n",
    "np = 5 * N + 1\n",
    "ns  = ni - 12\n",
    "nt = np + ns + 1\n",
    "println(ni)\n",
    "println(np)\n",
    "println(ns)\n",
    "println(nt)\n"
   ]
  },
  {
   "cell_type": "code",
   "execution_count": 3,
   "metadata": {},
   "outputs": [
    {
     "data": {
      "text/plain": [
       "4761"
      ]
     },
     "execution_count": 3,
     "metadata": {},
     "output_type": "execute_result"
    }
   ],
   "source": [
    "69*69"
   ]
  },
  {
   "cell_type": "markdown",
   "metadata": {},
   "source": [
    "We Define the states now"
   ]
  },
  {
   "cell_type": "code",
   "execution_count": 4,
   "metadata": {},
   "outputs": [],
   "source": [
    "S = Dict()\n",
    "T = []\n",
    "TG = []\n",
    "TB = []\n",
    "for ua in 0:N\n",
    "    for ub in 0:N\n",
    "        for sa in 0:1\n",
    "            for sb in 0:1\n",
    "                index = (2 * sa + sb) * (N + 1)^2 + (N + 1) * ua + ub\n",
    "                S[index] = (ua, ub, sa, sb)\n",
    "            end\n",
    "        end\n",
    "    end\n",
    "end\n",
    "Skeyer = Dict(value => key for (key, value) in S);\n"
   ]
  },
  {
   "cell_type": "markdown",
   "metadata": {},
   "source": [
    "Define Terminal states"
   ]
  },
  {
   "cell_type": "code",
   "execution_count": 5,
   "metadata": {},
   "outputs": [
    {
     "name": "stdout",
     "output_type": "stream",
     "text": [
      "Terminal States\n",
      "T: Any[3, 12, 15, 19, 28, 31, 35, 44, 47, 51, 60, 63]\n",
      "TG: Any[3, 12, 19, 28, 35, 44, 51, 60]\n",
      "TB: Any[15, 31, 47, 63]\n"
     ]
    }
   ],
   "source": [
    "# Initialize lists\n",
    "T = []\n",
    "TG = []\n",
    "TB = []\n",
    "\n",
    "# Loop through the ranges\n",
    "for ua in 0:N\n",
    "    for ub in 0:N\n",
    "        for sa in 0:1\n",
    "            for sb in 0:1\n",
    "                i = (2 * sa + sb) * (N + 1)^2 + (N + 1) * ua + ub\n",
    "                if ua == N && ub == 0\n",
    "                    push!(TG, i)\n",
    "                    push!(T, i)\n",
    "                end\n",
    "                if ua == 0 && ub == N\n",
    "                    push!(TG, i)\n",
    "                    push!(T, i)\n",
    "                end\n",
    "                if ua == N && ub == N\n",
    "                    push!(TB, i)\n",
    "                    push!(T, i)\n",
    "                end\n",
    "                S[i] = (ua, ub, sa, sb)\n",
    "            end\n",
    "        end\n",
    "    end\n",
    "end\n",
    "Tc = [i for i in 0:ni-1 if i ∉ T]\n",
    "\n",
    "sort!(T);\n",
    "sort!(TG);\n",
    "sort!(TB);\n",
    "\n",
    "\n",
    "println(\"Terminal States\")\n",
    "println(\"T: \", T)\n",
    "println(\"TG: \", TG)\n",
    "println(\"TB: \", TB)\n"
   ]
  },
  {
   "cell_type": "markdown",
   "metadata": {},
   "source": [
    "Parameters"
   ]
  },
  {
   "cell_type": "code",
   "execution_count": 6,
   "metadata": {},
   "outputs": [
    {
     "name": "stdout",
     "output_type": "stream",
     "text": [
      "[1, 2, 3, 4, 5, 6, 7, 8, 9, 10, 11, 12, 13, 14, 15, 16]"
     ]
    }
   ],
   "source": [
    "f⁺ = collect([[N * (j-1) + i for j in 1:2] for i in 1:N]);\n",
    "# f⁺ = collect([[rand() for j in 1:2] for i in 1:N])\n",
    "f⁺=reduce(hcat,f⁺)\n",
    "f⁻ = collect([[N * (j-1) + i + (2 * N) for j in 1:2] for i in 1:N]);\n",
    "f⁻=reduce(hcat,f⁻)\n",
    "f⁺_flattened = collect(Iterators.flatten(f⁺'))\n",
    "f⁻_flattened = collect(Iterators.flatten(f⁻'))\n",
    "g = [4 * N  + i for i in 1:N];\n",
    "koff = 5 * N + 1\n",
    "P = collect(vcat(f⁺_flattened, f⁻_flattened, g, [koff]))\n",
    "print(P)\n"
   ]
  },
  {
   "cell_type": "markdown",
   "metadata": {},
   "source": [
    "Defining matrices"
   ]
  },
  {
   "cell_type": "code",
   "execution_count": 7,
   "metadata": {},
   "outputs": [],
   "source": [
    "M=zeros(Int, ni, ni, np);\n",
    "for (u, u_) in Iterators.product(values(S), values(S))\n",
    "    # Skip if u and u_ are the same\n",
    "    if u == u_\n",
    "        continue\n",
    "    end\n",
    "\n",
    "    i = Skeyer[u]\n",
    "    j = Skeyer[u_]\n",
    "    flag = 0\n",
    "    ua, ub, sa, sb = u\n",
    "    ua_, ub_, sa_, sb_ = u_\n",
    "\n",
    "    tempk = 0\n",
    "\n",
    "    if j == i + (N + 1) && ub == ub_ && sa == sa_ && sb == sb_\n",
    "        flag = 1\n",
    "        tempk = N * sa + ua + 1\n",
    "    elseif j == i - (N + 1) && ub == ub_ && sa == sa_ && sb == sb_\n",
    "        flag = 1\n",
    "        tempk = sa * N + ua + 2 * N \n",
    "    elseif j == i + 1 && ua == ua_ && sa == sa_ && sb == sb_\n",
    "        flag = 1\n",
    "        tempk = N * sb + ub + 1\n",
    "    elseif j == i - 1 && ua == ua_ && sa == sa_ && sb == sb_\n",
    "        flag = 1\n",
    "        tempk = sb * N + ub + 2 * N \n",
    "    elseif j == i + 2 * (N + 1)^2 && ua == ua_ && ub == ub_ && ub != 0 && sb == sb_\n",
    "        flag = 1\n",
    "        tempk = 4 * N + ub \n",
    "    elseif j == i - 2 * (N + 1)^2 && ua == ua_ && ub == ub_ && sb == sb_\n",
    "        flag = 1\n",
    "        tempk = 5 * N + 1\n",
    "    elseif j == i + (N + 1)^2 && ua == ua_ && ub == ub_ && ua != 0 && sa == sa_\n",
    "        flag = 1\n",
    "        tempk = 4 * N + ua \n",
    "    elseif j == i - (N + 1)^2 && ua == ua_ && ub == ub_ && sa == sa_\n",
    "        flag = 1\n",
    "        tempk = 5 * N + 1\n",
    "    end\n",
    "\n",
    "    if flag == 1\n",
    "        M[i+1, j+1, tempk] = flag\n",
    "    end\n",
    "end\n",
    "for k in 1:np\n",
    "    # Calculate the sum of each row for the kth slice of M (equivalent to M[:,:,k] in Python)\n",
    "    M_i = [sum(M[:, :, k][i, :]) for i in 1:ni]\n",
    "\n",
    "    for u in values(S)\n",
    "        i = Skeyer[u]\n",
    "        M[i+1, i+1, k] = -M_i[i+1]\n",
    "    end\n",
    "end"
   ]
  },
  {
   "cell_type": "code",
   "execution_count": 8,
   "metadata": {},
   "outputs": [
    {
     "data": {
      "text/plain": [
       "64×64 Matrix{Int64}:\n",
       " -2    1    0    0    1    0    0    0  …    0    0    0    0    0    0    0\n",
       "  7  -23    2    0    0    1    0    0       0    0    0    0    0    0    0\n",
       "  0    8  -26    3    0    0    1    0       0    0    0    0    0    0    0\n",
       "  0    0    9  -25    0    0    0    1       0    0    0    0    0    0    0\n",
       "  7    0    0    0  -23    1    0    0       0    0    0    0    0    0    0\n",
       "  0    7    0    0    7  -44    2    0  …    0    0    0    0    0    0    0\n",
       "  0    0    7    0    0    8  -47    3       0    0    0    0    0    0    0\n",
       "  0    0    0    7    0    0    9  -46       0    0    0    0    0    0    0\n",
       "  0    0    0    0    8    0    0    0       0    0    0    0    0    0    0\n",
       "  0    0    0    0    0    8    0    0       0    0    0    0    0    0    0\n",
       "  0    0    0    0    0    0    8    0  …    0    0    0    0    0    0    0\n",
       "  0    0    0    0    0    0    0    8       0    0    0    0    0    0    0\n",
       "  0    0    0    0    0    0    0    0       0    0    0    0    0    0    0\n",
       "  ⋮                        ⋮            ⋱                   ⋮            \n",
       "  0    0    0    0    0    0    0    0       0    0    0    0    0    0    0\n",
       "  0    0    0    0    0    0    0    0       5    0    0    0    0    0    0\n",
       "  0    0    0    0    0    0    0    0       0    5    0    0    0    0    0\n",
       "  0    0    0    0    0    0    0    0  …    0    0    5    0    0    0    0\n",
       "  0    0    0    0    0    0    0    0       4    0    0    6    0    0    0\n",
       "  0    0    0    0    0    0    0    0     -64    5    0    0    6    0    0\n",
       "  0    0    0    0    0    0    0    0      11  -66    6    0    0    6    0\n",
       "  0    0    0    0    0    0    0    0       0   12  -61    0    0    0    6\n",
       "  0    0    0    0    0    0    0    0  …    0    0    0  -48    4    0    0\n",
       "  0    0    0    0    0    0    0    0      12    0    0   10  -59    5    0\n",
       "  0    0    0    0    0    0    0    0       0   12    0    0   11  -61    6\n",
       "  0    0    0    0    0    0    0    0       0    0   12    0    0   12  -56"
      ]
     },
     "execution_count": 8,
     "metadata": {},
     "output_type": "execute_result"
    }
   ],
   "source": [
    "P_=reshape(P, np, 1)\n",
    "Q = reduce((x, y) -> x + y, [P_[k] * M[:, :, k] for k in 1:np])\n",
    "# println(Q)\n",
    "# for row in eachrow(Q)\n",
    "#     for elem in row\n",
    "#         @printf(\"%.4f\\t\", elem)\n",
    "#     end\n",
    "#     println()\n",
    "# end"
   ]
  },
  {
   "cell_type": "code",
   "execution_count": 9,
   "metadata": {},
   "outputs": [
    {
     "data": {
      "text/plain": [
       "52×52 Matrix{Float64}:\n",
       " -2.0    1.0    0.0    1.0    0.0  …    0.0    0.0    0.0    0.0    0.0\n",
       "  7.0  -23.0    2.0    0.0    1.0       0.0    0.0    0.0    0.0    0.0\n",
       "  0.0    8.0  -26.0    0.0    0.0       0.0    0.0    0.0    0.0    0.0\n",
       "  7.0    0.0    0.0  -23.0    1.0       0.0    0.0    0.0    0.0    0.0\n",
       "  0.0    7.0    0.0    7.0  -44.0       0.0    0.0    0.0    0.0    0.0\n",
       "  0.0    0.0    7.0    0.0    8.0  …    0.0    0.0    0.0    0.0    0.0\n",
       "  0.0    0.0    0.0    0.0    0.0       0.0    0.0    0.0    0.0    0.0\n",
       "  0.0    0.0    0.0    8.0    0.0       0.0    0.0    0.0    0.0    0.0\n",
       "  0.0    0.0    0.0    0.0    8.0       0.0    0.0    0.0    0.0    0.0\n",
       "  0.0    0.0    0.0    0.0    0.0       0.0    0.0    0.0    0.0    0.0\n",
       "  0.0    0.0    0.0    0.0    0.0  …    0.0    0.0    0.0    0.0    0.0\n",
       "  0.0    0.0    0.0    0.0    0.0       0.0    0.0    0.0    0.0    0.0\n",
       "  0.0    0.0    0.0    0.0    0.0       0.0    0.0    0.0    0.0    0.0\n",
       "  ⋮                                ⋱                         ⋮    \n",
       "  0.0    0.0    0.0    0.0    0.0  …    0.0    0.0    0.0    0.0    0.0\n",
       "  0.0    0.0    0.0    0.0    0.0       0.0    0.0    0.0    0.0    0.0\n",
       "  0.0    0.0    0.0    0.0    0.0       0.0    0.0    0.0    0.0    0.0\n",
       "  0.0    0.0    0.0    0.0    0.0       5.0    0.0    0.0    0.0    0.0\n",
       "  0.0    0.0    0.0    0.0    0.0       0.0    5.0    0.0    0.0    0.0\n",
       "  0.0    0.0    0.0    0.0    0.0  …    0.0    0.0    5.0    0.0    0.0\n",
       "  0.0    0.0    0.0    0.0    0.0       4.0    0.0    0.0    0.0    0.0\n",
       "  0.0    0.0    0.0    0.0    0.0     -64.0    5.0    0.0    6.0    0.0\n",
       "  0.0    0.0    0.0    0.0    0.0      11.0  -66.0    6.0    0.0    6.0\n",
       "  0.0    0.0    0.0    0.0    0.0       0.0   12.0  -61.0    0.0    0.0\n",
       "  0.0    0.0    0.0    0.0    0.0  …   12.0    0.0    0.0  -59.0    5.0\n",
       "  0.0    0.0    0.0    0.0    0.0       0.0   12.0    0.0   11.0  -61.0"
      ]
     },
     "execution_count": 9,
     "metadata": {},
     "output_type": "execute_result"
    }
   ],
   "source": [
    "R = zeros(ns, ni)\n",
    "for i in 1:ns\n",
    "    R[i,Tc[i]+1] = 1\n",
    "end\n",
    "Qtilde = R * Q * R'"
   ]
  },
  {
   "cell_type": "code",
   "execution_count": 10,
   "metadata": {},
   "outputs": [],
   "source": [
    "Mtilde = zeros(ns, ns, np)\n",
    "for k in 1:np\n",
    "    Mtilde[:, :, k] = R * M[:, :, k] * R'\n",
    "end"
   ]
  },
  {
   "cell_type": "code",
   "execution_count": 11,
   "metadata": {},
   "outputs": [],
   "source": [
    "# Mtilde = zeros(ns, ns, np)\n",
    "# for i in 1:ns\n",
    "#     for j in 1:ns\n",
    "#         for k in 1:np\n",
    "#             Mtilde[i, j, k] = sum(R[i, a] * R[j, b] * M[a, b, k] for a in 1:ni, b in 1:ni)\n",
    "#         end\n",
    "#     end\n",
    "# end"
   ]
  },
  {
   "cell_type": "code",
   "execution_count": 12,
   "metadata": {},
   "outputs": [],
   "source": [
    "eis = Matrix{Float64}(I, ns, ns)\n",
    "Ai = zeros(ns, np, ns)\n",
    "for k in 1:ns\n",
    "    ei=eis[k,:]\n",
    "    for i in 1:ns\n",
    "        for j in 1:np\n",
    "            Ai[i,j,k]=ei'* Mtilde[:,i,j]   \n",
    "        end \n",
    "    end\n",
    "end"
   ]
  },
  {
   "cell_type": "code",
   "execution_count": 13,
   "metadata": {},
   "outputs": [],
   "source": [
    "alpha=zeros(np,ns)\n",
    "for i in 1:ns\n",
    "    Si=Tc[i]\n",
    "    for j in 1:ni\n",
    "        for k in 1:np\n",
    "            if (j-1 ∈ TB)\n",
    "                alpha[k,i]+=M[Si+1,j,k]\n",
    "            end\n",
    "            \n",
    "        end\n",
    "    end\n",
    "end"
   ]
  },
  {
   "cell_type": "code",
   "execution_count": 14,
   "metadata": {},
   "outputs": [],
   "source": [
    "Di=zeros(nt,nt,ns)\n",
    "for i in 1:ns\n",
    "    Di[np+1:np+ns,1:np,i]=Ai[:,:,i]\n",
    "    Di[1:np,nt,i]=λ*alpha[:,i]'\n",
    "    Di[nt,nt,i]=1\n",
    "end\n",
    "# for row in eachrow(Di[:, :, end])\n",
    "#     println(row)\n",
    "# end"
   ]
  },
  {
   "cell_type": "code",
   "execution_count": 15,
   "metadata": {},
   "outputs": [
    {
     "data": {
      "text/plain": [
       "69×69 Matrix{Float64}:\n",
       " 0.0  0.0  0.0  0.0  0.0  0.0  0.0  0.0  …  0.0  0.0  0.0  0.0  0.0  0.0  0.0\n",
       " 0.0  0.0  0.0  0.0  0.0  0.0  0.0  0.0     0.0  0.0  0.0  0.0  0.0  0.0  0.0\n",
       " 0.0  0.0  0.0  0.0  0.0  0.0  0.0  0.0     0.0  0.0  0.0  0.0  0.0  0.0  0.0\n",
       " 0.0  0.0  0.0  0.0  0.0  0.0  0.0  0.0     0.0  0.0  0.0  0.0  0.0  0.0  0.0\n",
       " 0.0  0.0  0.0  0.0  0.0  0.0  0.0  0.0     0.0  0.0  0.0  0.0  0.0  0.0  0.0\n",
       " 0.0  0.0  0.0  0.0  0.0  0.0  0.0  0.0  …  0.0  0.0  0.0  0.0  0.0  0.0  0.0\n",
       " 0.0  0.0  0.0  0.0  0.0  0.0  0.0  0.0     0.0  0.0  0.0  0.0  0.0  0.0  0.0\n",
       " 0.0  0.0  0.0  0.0  0.0  0.0  0.0  0.0     0.0  0.0  0.0  0.0  0.0  0.0  0.0\n",
       " 0.0  0.0  0.0  0.0  0.0  0.0  0.0  0.0     0.0  0.0  0.0  0.0  0.0  0.0  0.0\n",
       " 0.0  0.0  0.0  0.0  0.0  0.0  0.0  0.0     0.0  0.0  0.0  0.0  0.0  0.0  0.0\n",
       " 0.0  0.0  0.0  0.0  0.0  0.0  0.0  0.0  …  0.0  0.0  0.0  0.0  0.0  0.0  0.0\n",
       " 0.0  0.0  0.0  0.0  0.0  0.0  0.0  0.0     0.0  0.0  0.0  0.0  0.0  0.0  0.0\n",
       " 0.0  0.0  0.0  0.0  0.0  0.0  0.0  0.0     0.0  0.0  0.0  0.0  0.0  0.0  0.0\n",
       " ⋮                        ⋮              ⋱                 ⋮              \n",
       " 0.0  0.0  0.0  0.0  0.0  0.0  0.0  0.0     0.0  0.0  0.0  0.0  0.0  0.0  0.0\n",
       " 0.0  0.0  0.0  0.0  0.0  0.0  0.0  0.0     0.0  0.0  0.0  0.0  0.0  0.0  0.0\n",
       " 0.0  0.0  0.0  0.0  0.0  0.0  0.0  0.0     0.0  0.0  0.0  0.0  0.0  0.0  0.0\n",
       " 0.0  0.0  0.0  0.0  0.0  0.0  0.0  0.0  …  0.0  0.0  0.0  0.0  0.0  0.0  0.0\n",
       " 0.0  0.0  0.0  0.0  0.0  0.0  0.0  0.0     0.0  0.0  0.0  0.0  0.0  0.0  0.0\n",
       " 0.0  0.0  0.0  0.0  0.0  0.0  0.0  0.0     0.0  0.0  0.0  0.0  0.0  0.0  0.0\n",
       " 0.0  0.0  0.0  0.0  0.0  0.0  0.0  0.0     0.0  0.0  0.0  0.0  0.0  0.0  0.0\n",
       " 0.0  0.0  0.0  0.0  0.0  0.0  0.0  0.0     0.0  0.0  0.0  0.0  0.0  0.0  0.0\n",
       " 0.0  0.0  0.0  0.0  0.0  0.0  0.0  0.0  …  0.0  0.0  0.0  0.0  0.0  0.0  0.0\n",
       " 0.0  0.0  0.0  0.0  0.0  0.0  0.0  0.0     0.0  0.0  0.0  0.0  0.0  0.0  0.0\n",
       " 0.0  0.0  0.0  0.0  0.0  0.0  0.0  0.0     0.0  0.0  0.0  0.0  0.0  0.0  0.0\n",
       " 0.0  0.0  0.0  0.0  0.0  0.0  0.0  0.0     0.0  0.0  0.0  0.0  0.0  0.0  0.0"
      ]
     },
     "execution_count": 15,
     "metadata": {},
     "output_type": "execute_result"
    }
   ],
   "source": [
    "Ei=zeros(nt,nt,nt)\n",
    "for i in 1:nt\n",
    "    Ei[i,nt,i]=1\n",
    "end\n",
    "S0=Ei[:,:,np+1]"
   ]
  },
  {
   "cell_type": "code",
   "execution_count": 16,
   "metadata": {},
   "outputs": [],
   "source": [
    "#Symmetrise the matrices\n",
    "D_i=copy(Di)\n",
    "for i in 1:ns\n",
    "    D_i[ :, :,i] = (Di[ :, :,i] + Di[ :, :,i]') / 2\n",
    "end\n",
    "        \n",
    "S_0 = (S0 + S0') / 2\n",
    "E_i = copy(Ei)\n",
    "for i in 1:nt\n",
    "    E_i[ :, :,i] = (Ei[ :, :,i] + Ei[ :, :,i]') / 2\n",
    "end"
   ]
  },
  {
   "cell_type": "code",
   "execution_count": 17,
   "metadata": {},
   "outputs": [],
   "source": [
    "Cis=zeros(nt,nt,np)\n",
    "for i in 1:np\n",
    "    Cis[i,i,i]=1\n",
    "end"
   ]
  },
  {
   "cell_type": "markdown",
   "metadata": {},
   "source": [
    "We have defined all our matrices! We can move towards formulating a SDP problem for our case"
   ]
  },
  {
   "cell_type": "code",
   "execution_count": null,
   "metadata": {},
   "outputs": [],
   "source": []
  }
 ],
 "metadata": {
  "kernelspec": {
   "display_name": "Julia 1.10.4",
   "language": "julia",
   "name": "julia-1.10"
  },
  "language_info": {
   "file_extension": ".jl",
   "mimetype": "application/julia",
   "name": "julia",
   "version": "1.10.4"
  }
 },
 "nbformat": 4,
 "nbformat_minor": 2
}
